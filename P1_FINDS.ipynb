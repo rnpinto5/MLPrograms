{
  "nbformat": 4,
  "nbformat_minor": 0,
  "metadata": {
    "colab": {
      "name": "P1-FINDS.ipynb",
      "provenance": [],
      "collapsed_sections": []
    },
    "kernelspec": {
      "name": "python3",
      "display_name": "Python 3"
    },
    "language_info": {
      "name": "python"
    }
  },
  "cells": [
    {
      "cell_type": "code",
      "metadata": {
        "id": "KORrFwKK1A6o"
      },
      "source": [
        "import pandas as pd\n",
        "import numpy as np "
      ],
      "execution_count": 2,
      "outputs": []
    },
    {
      "cell_type": "code",
      "metadata": {
        "id": "6QZakPFf1gWh"
      },
      "source": [
        "data = pd.read_csv('/content/play.csv')\n",
        "concepts = np.array(data)[ : , :-1]\n",
        "target = np.array(data)[ : , -1]"
      ],
      "execution_count": 3,
      "outputs": []
    },
    {
      "cell_type": "code",
      "metadata": {
        "colab": {
          "base_uri": "https://localhost:8080/"
        },
        "id": "xO4s5zhF5rLf",
        "outputId": "6d6100e1-9fc6-4029-8209-c46e1af89ec1"
      },
      "source": [
        "target"
      ],
      "execution_count": 4,
      "outputs": [
        {
          "output_type": "execute_result",
          "data": {
            "text/plain": [
              "array(['yes', 'yes', 'no', 'yes'], dtype=object)"
            ]
          },
          "metadata": {
            "tags": []
          },
          "execution_count": 4
        }
      ]
    },
    {
      "cell_type": "code",
      "metadata": {
        "colab": {
          "base_uri": "https://localhost:8080/"
        },
        "id": "xt5LrDH43fc1",
        "outputId": "86e83a69-8485-4167-8127-f5c09baf609e"
      },
      "source": [
        "def train(tar,con):\n",
        "    for i,val in enumerate(tar):\n",
        "        if val=='yes':\n",
        "            specific = con[i].copy()\n",
        "            break\n",
        "    for i,val in enumerate(con):\n",
        "        if tar[i]=='yes':\n",
        "            for x in range(len(specific)):\n",
        "                if val[x] != specific[x]:\n",
        "                    specific[x] = '?'\n",
        "                else:\n",
        "                    pass\n",
        "        print(\"Specific[\",(i+1),\"]:\",str(specific))\n",
        "    return specific\n",
        "print(train(target,concepts)) \n",
        "\n"
      ],
      "execution_count": 5,
      "outputs": [
        {
          "output_type": "stream",
          "text": [
            "Specific[ 1 ]: ['sunny' 'warm' 'normal' 'strong' 'warm' 'same']\n",
            "Specific[ 2 ]: ['sunny' 'warm' '?' 'strong' 'warm' 'same']\n",
            "Specific[ 3 ]: ['sunny' 'warm' '?' 'strong' 'warm' 'same']\n",
            "Specific[ 4 ]: ['sunny' 'warm' '?' 'strong' '?' '?']\n",
            "['sunny' 'warm' '?' 'strong' '?' '?']\n"
          ],
          "name": "stdout"
        }
      ]
    }
  ]
}
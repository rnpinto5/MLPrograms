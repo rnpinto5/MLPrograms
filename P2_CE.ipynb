{
  "nbformat": 4,
  "nbformat_minor": 0,
  "metadata": {
    "colab": {
      "name": "P2-CE.ipynb",
      "provenance": []
    },
    "kernelspec": {
      "name": "python3",
      "display_name": "Python 3"
    },
    "language_info": {
      "name": "python"
    }
  },
  "cells": [
    {
      "cell_type": "code",
      "metadata": {
        "id": "2-cKpx4VlToj"
      },
      "source": [
        "import pandas as pd\n",
        "import numpy as np "
      ],
      "execution_count": 1,
      "outputs": []
    },
    {
      "cell_type": "code",
      "metadata": {
        "id": "sjzSHGWXl7UD"
      },
      "source": [
        "data = pd.read_csv('/content/finds.csv')\n",
        "concepts = np.array(data)[ : , :-1]\n",
        "target = np.array(data)[ : , -1]"
      ],
      "execution_count": 2,
      "outputs": []
    },
    {
      "cell_type": "code",
      "metadata": {
        "colab": {
          "base_uri": "https://localhost:8080/"
        },
        "id": "FHJdywTymXNv",
        "outputId": "5db77135-8c98-4277-aadd-84a6f65ee777"
      },
      "source": [
        "target\n"
      ],
      "execution_count": 3,
      "outputs": [
        {
          "output_type": "execute_result",
          "data": {
            "text/plain": [
              "array(['Yes', 'Yes', 'No', 'Yes'], dtype=object)"
            ]
          },
          "metadata": {
            "tags": []
          },
          "execution_count": 3
        }
      ]
    },
    {
      "cell_type": "code",
      "metadata": {
        "colab": {
          "base_uri": "https://localhost:8080/"
        },
        "id": "d8krd0EKmb_n",
        "outputId": "40049080-d49d-4221-9503-c4b29dd77a6b"
      },
      "source": [
        "def train(con,tar):\n",
        "  specific = con[0].copy()\n",
        "  general = [['?' for x in range(len(specific))] for x in range(len(specific))]\n",
        "  for i,val in enumerate(con):\n",
        "    if tar[i] == 'yes':\n",
        "      for x in range(len(specific)):\n",
        "        if val[x] != specific[x]:\n",
        "          specific[x] = '?'\n",
        "          general[x][x] = '?'\n",
        "    else:\n",
        "      for x in range(len(specific)):\n",
        "        if val[x] != specific[x]:\n",
        "          general[x][x] = specific[x]\n",
        "        else: \n",
        "          general[x][x] = '?'\n",
        "    print(\"Iteration[\"+ str(i+1) +\"]\")\n",
        "    print(\"Specific:\" +str(specific))\n",
        "    print(\"General:\" +str(general) +\"\\n\\n\")\n",
        "  general = [general[i] for i,val in enumerate(general)  if val != ['?' for x in range(len(specific))]]\n",
        "  return specific,general\n",
        "\n",
        "specific,general = train(concepts,target)  \n",
        "print(\"-------------------Final Hypothesis------------------\")\n",
        "print(\"Specific hypothesis:\" +str(specific))\n",
        "print(\"General hypothesis:\" +str(general))\n",
        "\n",
        "\n"
      ],
      "execution_count": 5,
      "outputs": [
        {
          "output_type": "stream",
          "text": [
            "Iteration[1]\n",
            "Specific:[1 'Sunny' 'Warm' 'Normal' 'Strong' 'Warm' 'Same']\n",
            "General:[['?', '?', '?', '?', '?', '?', '?'], ['?', '?', '?', '?', '?', '?', '?'], ['?', '?', '?', '?', '?', '?', '?'], ['?', '?', '?', '?', '?', '?', '?'], ['?', '?', '?', '?', '?', '?', '?'], ['?', '?', '?', '?', '?', '?', '?'], ['?', '?', '?', '?', '?', '?', '?']]\n",
            "\n",
            "\n",
            "Iteration[2]\n",
            "Specific:[1 'Sunny' 'Warm' 'Normal' 'Strong' 'Warm' 'Same']\n",
            "General:[[1, '?', '?', '?', '?', '?', '?'], ['?', '?', '?', '?', '?', '?', '?'], ['?', '?', '?', '?', '?', '?', '?'], ['?', '?', '?', 'Normal', '?', '?', '?'], ['?', '?', '?', '?', '?', '?', '?'], ['?', '?', '?', '?', '?', '?', '?'], ['?', '?', '?', '?', '?', '?', '?']]\n",
            "\n",
            "\n",
            "Iteration[3]\n",
            "Specific:[1 'Sunny' 'Warm' 'Normal' 'Strong' 'Warm' 'Same']\n",
            "General:[[1, '?', '?', '?', '?', '?', '?'], ['?', 'Sunny', '?', '?', '?', '?', '?'], ['?', '?', 'Warm', '?', '?', '?', '?'], ['?', '?', '?', 'Normal', '?', '?', '?'], ['?', '?', '?', '?', '?', '?', '?'], ['?', '?', '?', '?', '?', '?', '?'], ['?', '?', '?', '?', '?', '?', 'Same']]\n",
            "\n",
            "\n",
            "Iteration[4]\n",
            "Specific:[1 'Sunny' 'Warm' 'Normal' 'Strong' 'Warm' 'Same']\n",
            "General:[[1, '?', '?', '?', '?', '?', '?'], ['?', '?', '?', '?', '?', '?', '?'], ['?', '?', '?', '?', '?', '?', '?'], ['?', '?', '?', 'Normal', '?', '?', '?'], ['?', '?', '?', '?', '?', '?', '?'], ['?', '?', '?', '?', '?', '?', '?'], ['?', '?', '?', '?', '?', '?', 'Same']]\n",
            "\n",
            "\n",
            "-------------------Final Hypothesis------------------\n",
            "Specific hypothesis:[1 'Sunny' 'Warm' 'Normal' 'Strong' 'Warm' 'Same']\n",
            "General hypothesis:[[1, '?', '?', '?', '?', '?', '?'], ['?', '?', '?', 'Normal', '?', '?', '?'], ['?', '?', '?', '?', '?', '?', 'Same']]\n"
          ],
          "name": "stdout"
        }
      ]
    }
  ]
}